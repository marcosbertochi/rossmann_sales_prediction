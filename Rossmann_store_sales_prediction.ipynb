{
 "cells": [
  {
   "cell_type": "markdown",
   "id": "21b39839",
   "metadata": {
    "heading_collapsed": true
   },
   "source": [
    "## Business Problem"
   ]
  },
  {
   "cell_type": "markdown",
   "id": "ed2f5b0b",
   "metadata": {
    "ExecuteTime": {
     "end_time": "2022-07-18T09:55:23.702038Z",
     "start_time": "2022-07-18T09:55:23.684580Z"
    },
    "heading_collapsed": true,
    "hidden": true
   },
   "source": [
    "### Business situation"
   ]
  },
  {
   "cell_type": "markdown",
   "id": "0f7122c7",
   "metadata": {
    "hidden": true
   },
   "source": [
    "Rossmann operates over 3,000 drug stores in 7 European countries. Currently, Rossmann store managers are tasked with predicting their daily sales for up to six weeks in advance. Store sales are influenced by many factors, including promotions, competition, school and state holidays, seasonality, and locality. With thousands of individual managers predicting sales based on their unique circumstances, the accuracy of results can be quite varied."
   ]
  },
  {
   "cell_type": "markdown",
   "id": "c7c37f93",
   "metadata": {
    "hidden": true
   },
   "source": [
    "### Business Understanding & Solution planning"
   ]
  },
  {
   "cell_type": "markdown",
   "id": "31528d1d",
   "metadata": {
    "hidden": true
   },
   "source": [
    "- Motivation: Sales forecasting was requested by CFO on monthly meeting to all sales managers\n",
    "- Main stakeholder: CFO\n",
    "- Root cause: In order to evaluate solution, talking to CFO he has made clear that wants to define the budget investiment to refurbish all stores and sales forecast will support it => in this case, the sales forecast it's a suitable solution\n",
    "- Solution format: \n",
    " - Granularity: information by store by day for the next 6 weeks\n",
    " - Problem type: sales forecast\n",
    " - Potential methods: time series, regression\n",
    " - Deliverables: Will constructed a dashboard to \n",
    "   -Total sales forecasted by store for next 6 weeks\n",
    "   -Sales evolution for next 6 weeks by store\n",
    "\n",
    "\n",
    "- SAPE:\n",
    "- Saída (produto final)\n",
    " - Resposta para pergunta:\n",
    " - Formato Entrega:\n",
    " - Local:\n",
    "- Processo (passo a passo)\n",
    " - Coletar os dados das vendas das lojas\n",
    " - Avaliar qualidade dos dados\n",
    "\n",
    "- Entrada:\n",
    " - Python 3.9\n",
    " - Jupyter Nb\n",
    " - Kaggle data\n",
    " - "
   ]
  },
  {
   "cell_type": "markdown",
   "id": "cb6cb907",
   "metadata": {
    "hidden": true
   },
   "source": [
    "### Data fields"
   ]
  },
  {
   "cell_type": "markdown",
   "id": "337338cd",
   "metadata": {
    "hidden": true
   },
   "source": [
    "- Id - an Id that represents a (Store, Date) duple within the test set\n",
    "- Store - a unique Id for each store\n",
    "- Sales - the turnover for any given day (this is what you are predicting)\n",
    "- Customers - the number of customers on a given day\n",
    "- Open - an indicator for whether the store was open: 0 = closed, 1 = open\n",
    "- StateHoliday - indicates a state holiday. Normally all stores, with few exceptions, are closed on state holidays. Note that all schools are closed on public holidays and weekends. a = public holiday, b = Easter holiday, c = Christmas, 0 = None\n",
    "- SchoolHoliday - indicates if the (Store, Date) was affected by the closure of public schools\n",
    "- StoreType - differentiates between 4 different store models: a, b, c, d\n",
    "- Assortment - describes an assortment level: a = basic, b = extra, c = extended\n",
    "- CompetitionDistance - distance in meters to the nearest competitor store\n",
    "- CompetitionOpenSince[Month/Year] - gives the approximate year and month of the time the nearest competitor was opened\n",
    "- Promo - indicates whether a store is running a promo on that day\n",
    "- Promo2 - Promo2 is a continuing and consecutive promotion for some stores: 0 = store is not participating, 1 = store is participating\n",
    "- Promo2Since[Year/Week] - describes the year and calendar week when the store started participating in Promo2\n",
    "- PromoInterval - describes the consecutive intervals Promo2 is started, naming the months the promotion is started anew. E.g. \"Feb,May,Aug,Nov\" means each round starts in February, May, August, November of any given year for that store"
   ]
  },
  {
   "cell_type": "markdown",
   "id": "c695202f",
   "metadata": {},
   "source": [
    "## 0 Imports"
   ]
  },
  {
   "cell_type": "code",
   "execution_count": 265,
   "id": "aefbdc4f",
   "metadata": {
    "ExecuteTime": {
     "end_time": "2022-07-28T14:20:49.898623Z",
     "start_time": "2022-07-28T14:20:49.886806Z"
    }
   },
   "outputs": [],
   "source": [
    "import pandas as pd\n",
    "import inflection\n",
    "import numpy as np\n",
    "import seaborn as sns\n",
    "import datetime\n",
    "import matplotlib.pyplot as plt\n",
    "from IPython.core.display import HTML\n",
    "from IPython.display import Image"
   ]
  },
  {
   "cell_type": "markdown",
   "id": "e168c3e8",
   "metadata": {},
   "source": [
    "### 0.1 Helper Functions"
   ]
  },
  {
   "cell_type": "code",
   "execution_count": 266,
   "id": "a4e7a126",
   "metadata": {
    "ExecuteTime": {
     "end_time": "2022-07-28T14:20:49.929699Z",
     "start_time": "2022-07-28T14:20:49.903621Z"
    }
   },
   "outputs": [],
   "source": [
    "def jupyter_settings():\n",
    "    %matplotlib inline\n",
    "    %pylab inline\n",
    "    plt.style.use( 'bmh' )\n",
    "    plt.rcParams['figure.figsize'] = [25, 12]\n",
    "    plt.rcParams['font.size'] = 24\n",
    "    display( HTML( '<style>.container { width:100% !important; }</style>') )\n",
    "    pd.options.display.max_columns = None\n",
    "    pd.options.display.max_rows = None\n",
    "    pd.set_option( 'display.expand_frame_repr', False )\n",
    "    sns.set()\n",
    "#jupyter_settings()"
   ]
  },
  {
   "cell_type": "markdown",
   "id": "867a6334",
   "metadata": {},
   "source": [
    "### 0.2 Loading Data"
   ]
  },
  {
   "cell_type": "code",
   "execution_count": 268,
   "id": "28dfff38",
   "metadata": {
    "ExecuteTime": {
     "end_time": "2022-07-28T14:20:51.487544Z",
     "start_time": "2022-07-28T14:20:49.948539Z"
    }
   },
   "outputs": [],
   "source": [
    "df_store_raw = pd.read_csv('datasets/store.csv',low_memory=False)\n",
    "df_sales_raw = pd.read_csv('datasets/train.csv',low_memory=False)\n",
    "\n",
    "#merge\n",
    "df_raw = pd.merge(df_sales_raw,df_store_raw,on='Store',how='left')"
   ]
  },
  {
   "cell_type": "markdown",
   "id": "89c64e3d",
   "metadata": {
    "heading_collapsed": true
   },
   "source": [
    "## 1. Data description"
   ]
  },
  {
   "cell_type": "code",
   "execution_count": 269,
   "id": "66eba132",
   "metadata": {
    "ExecuteTime": {
     "end_time": "2022-07-28T14:20:51.742206Z",
     "start_time": "2022-07-28T14:20:51.487544Z"
    },
    "hidden": true
   },
   "outputs": [],
   "source": [
    "df = df_raw.copy()"
   ]
  },
  {
   "cell_type": "markdown",
   "id": "581783dd",
   "metadata": {
    "heading_collapsed": true,
    "hidden": true
   },
   "source": [
    "### 1.1 Rename Columns"
   ]
  },
  {
   "cell_type": "code",
   "execution_count": 270,
   "id": "01a90131",
   "metadata": {
    "ExecuteTime": {
     "end_time": "2022-07-28T14:20:51.758212Z",
     "start_time": "2022-07-28T14:20:51.745137Z"
    },
    "hidden": true
   },
   "outputs": [],
   "source": [
    "#transform to snake_case\n",
    "cols_old = df.columns\n",
    "\n",
    "snake_case = lambda x: inflection.underscore(x)\n",
    "\n",
    "cols_new = list(map(snake_case,cols_old))\n",
    "df.columns = cols_new"
   ]
  },
  {
   "cell_type": "markdown",
   "id": "89b1744f",
   "metadata": {
    "heading_collapsed": true,
    "hidden": true
   },
   "source": [
    "### 1.2 Data dimension"
   ]
  },
  {
   "cell_type": "code",
   "execution_count": 271,
   "id": "5ad5f810",
   "metadata": {
    "ExecuteTime": {
     "end_time": "2022-07-28T14:20:51.773409Z",
     "start_time": "2022-07-28T14:20:51.760213Z"
    },
    "hidden": true
   },
   "outputs": [
    {
     "name": "stdout",
     "output_type": "stream",
     "text": [
      "Dataset has 1017209 rows\n",
      "Dataset has 18 attributes\n"
     ]
    }
   ],
   "source": [
    "print(\"Dataset has {} rows\".format(df.shape[0]))\n",
    "print(\"Dataset has {} attributes\".format(df.shape[1]))"
   ]
  },
  {
   "cell_type": "markdown",
   "id": "a91d1b67",
   "metadata": {
    "hidden": true
   },
   "source": [
    "### 1.3 Data types"
   ]
  },
  {
   "cell_type": "code",
   "execution_count": 272,
   "id": "3965553d",
   "metadata": {
    "ExecuteTime": {
     "end_time": "2022-07-28T14:20:51.789384Z",
     "start_time": "2022-07-28T14:20:51.775335Z"
    },
    "hidden": true
   },
   "outputs": [
    {
     "data": {
      "text/plain": [
       "store                             int64\n",
       "day_of_week                       int64\n",
       "date                             object\n",
       "sales                             int64\n",
       "customers                         int64\n",
       "open                              int64\n",
       "promo                             int64\n",
       "state_holiday                    object\n",
       "school_holiday                    int64\n",
       "store_type                       object\n",
       "assortment                       object\n",
       "competition_distance            float64\n",
       "competition_open_since_month    float64\n",
       "competition_open_since_year     float64\n",
       "promo2                            int64\n",
       "promo2_since_week               float64\n",
       "promo2_since_year               float64\n",
       "promo_interval                   object\n",
       "dtype: object"
      ]
     },
     "execution_count": 272,
     "metadata": {},
     "output_type": "execute_result"
    }
   ],
   "source": [
    "df.dtypes"
   ]
  },
  {
   "cell_type": "code",
   "execution_count": 273,
   "id": "cb8f303f",
   "metadata": {
    "ExecuteTime": {
     "end_time": "2022-07-28T14:20:51.977590Z",
     "start_time": "2022-07-28T14:20:51.791336Z"
    },
    "hidden": true
   },
   "outputs": [],
   "source": [
    "df['date'] = pd.to_datetime(df['date'],format=\"%Y-%m-%d\")"
   ]
  },
  {
   "cell_type": "markdown",
   "id": "805a26fd",
   "metadata": {
    "hidden": true
   },
   "source": [
    "### 1.4 Dealing with missing values"
   ]
  },
  {
   "cell_type": "markdown",
   "id": "5b817e7b",
   "metadata": {
    "hidden": true
   },
   "source": [
    "First of all, it's important to understand why those values are missing. Afterwards, we can decide how to handle these missing values, mainly through: dropping rows/columns (depending on the volume, we can loose a lot of data and it's not recommended), inputing values with a few techniques such as inputting statistics (means, medians, mode), inputing values using assumptions through business thinking (it can lead to ML models underperforming), inputing values using ML techniques. "
   ]
  },
  {
   "cell_type": "code",
   "execution_count": 274,
   "id": "d4845e7f",
   "metadata": {
    "ExecuteTime": {
     "end_time": "2022-07-28T14:20:52.475288Z",
     "start_time": "2022-07-28T14:20:51.980589Z"
    },
    "hidden": true
   },
   "outputs": [
    {
     "data": {
      "text/plain": [
       "store                           0.000000\n",
       "day_of_week                     0.000000\n",
       "date                            0.000000\n",
       "sales                           0.000000\n",
       "customers                       0.000000\n",
       "open                            0.000000\n",
       "promo                           0.000000\n",
       "state_holiday                   0.000000\n",
       "school_holiday                  0.000000\n",
       "store_type                      0.000000\n",
       "assortment                      0.000000\n",
       "competition_distance            0.002597\n",
       "competition_open_since_month    0.317878\n",
       "competition_open_since_year     0.317878\n",
       "promo2                          0.000000\n",
       "promo2_since_week               0.499436\n",
       "promo2_since_year               0.499436\n",
       "promo_interval                  0.499436\n",
       "dtype: float64"
      ]
     },
     "execution_count": 274,
     "metadata": {},
     "output_type": "execute_result"
    }
   ],
   "source": [
    "df.isna().sum()/df.shape[0]"
   ]
  },
  {
   "cell_type": "code",
   "execution_count": 275,
   "id": "b5da4408",
   "metadata": {
    "ExecuteTime": {
     "end_time": "2022-07-28T14:20:53.428803Z",
     "start_time": "2022-07-28T14:20:52.477931Z"
    },
    "hidden": true
   },
   "outputs": [],
   "source": [
    "#CompetitionDistance - distance in meters to the nearest competitor store\n",
    "# ** Assumption ** => If missing, replace for double max value in dataset\n",
    "#df['competition_distance'].max() * 2 #max distance = 151720\n",
    "\n",
    "df['competition_distance'] = df['competition_distance'].apply(lambda x: 150000 if pd.isna(x) else x)"
   ]
  },
  {
   "cell_type": "code",
   "execution_count": 276,
   "id": "043f8571",
   "metadata": {
    "ExecuteTime": {
     "end_time": "2022-07-28T14:21:26.125728Z",
     "start_time": "2022-07-28T14:20:53.428803Z"
    },
    "hidden": true
   },
   "outputs": [],
   "source": [
    "#CompetitionOpenSince[Month/Year] - gives the approximate year and month of the time the nearest competitor was opened\n",
    "# **Assumption** => we will copy sale date to competetition open since month/year\n",
    "\n",
    "df['competition_open_since_month'] = df.apply(lambda x: x['date'].month if pd.isna(x['competition_open_since_month'])\n",
    "                                                                                   else x['competition_open_since_month'],axis=1)\n",
    "\n",
    "df['competition_open_since_year'] = df.apply(lambda x: x['date'].year if pd.isna(x['competition_open_since_year'])\n",
    "                                                                                   else x['competition_open_since_year'],axis=1)"
   ]
  },
  {
   "cell_type": "code",
   "execution_count": 277,
   "id": "775ed7a9",
   "metadata": {
    "ExecuteTime": {
     "end_time": "2022-07-28T14:21:57.611735Z",
     "start_time": "2022-07-28T14:21:26.125728Z"
    },
    "hidden": true
   },
   "outputs": [],
   "source": [
    "#Promo2 - Promo2 is a continuing and consecutive promotion for some stores: 0 = store is not participating, 1 = store is participating\n",
    "\n",
    "#Promo2Since[Year/Week] - describes the year and calendar week when the store started participating in Promo2\n",
    "df['promo2_since_week'] = df.apply(lambda x: x['date'].week if pd.isna(x['promo2_since_week']) else x['promo2_since_week'],axis=1)\n",
    "\n",
    "df['promo2_since_year'] = df.apply(lambda x: x['date'].year if pd.isna(x['promo2_since_year']) else x['promo2_since_year'],axis=1)\n",
    "\n"
   ]
  },
  {
   "cell_type": "code",
   "execution_count": 278,
   "id": "c3dbbcc4",
   "metadata": {
    "ExecuteTime": {
     "end_time": "2022-07-28T14:22:10.032768Z",
     "start_time": "2022-07-28T14:21:57.616427Z"
    },
    "hidden": true
   },
   "outputs": [],
   "source": [
    "#PromoInterval - describes the consecutive intervals Promo2 is started, naming the months the promotion is started anew. E.g. \"Feb,May,Aug,Nov\" means each round starts in February, May, August, November of any given year for that store\n",
    "\n",
    "df['promo_interval'].fillna(0, inplace=True)\n",
    "\n",
    "#translates month (in numbers) to month (in string) and check in a new attribute if sale was in active promo\n",
    "\n",
    "month_map = {1:'Jan', 2:'Feb', 3:'Mar', 4:'Apr', 5:'May', 6:'Jun', 7:'Jul', 8:'Aug', 9:'Sep', 10:'Oct', 11:'Nov', 12:'Dec'}\n",
    "df['month_map'] = df['date'].dt.month.map(month_map)\n",
    "df['is_promo'] = df[['promo_interval','month_map']].apply(lambda x: 0 if x['promo_interval'] == 0 else 1 if x['month_map'] in x['promo_interval'].split(',') else 0, axis=1)\n"
   ]
  },
  {
   "cell_type": "code",
   "execution_count": 279,
   "id": "8d48b20f",
   "metadata": {
    "ExecuteTime": {
     "end_time": "2022-07-28T14:22:10.682457Z",
     "start_time": "2022-07-28T14:22:10.032768Z"
    },
    "hidden": true
   },
   "outputs": [
    {
     "data": {
      "text/plain": [
       "store                           0.0\n",
       "day_of_week                     0.0\n",
       "date                            0.0\n",
       "sales                           0.0\n",
       "customers                       0.0\n",
       "open                            0.0\n",
       "promo                           0.0\n",
       "state_holiday                   0.0\n",
       "school_holiday                  0.0\n",
       "store_type                      0.0\n",
       "assortment                      0.0\n",
       "competition_distance            0.0\n",
       "competition_open_since_month    0.0\n",
       "competition_open_since_year     0.0\n",
       "promo2                          0.0\n",
       "promo2_since_week               0.0\n",
       "promo2_since_year               0.0\n",
       "promo_interval                  0.0\n",
       "month_map                       0.0\n",
       "is_promo                        0.0\n",
       "dtype: float64"
      ]
     },
     "execution_count": 279,
     "metadata": {},
     "output_type": "execute_result"
    }
   ],
   "source": [
    "df.isna().sum()/df.shape[0]"
   ]
  },
  {
   "cell_type": "markdown",
   "id": "18bd127d",
   "metadata": {
    "hidden": true
   },
   "source": [
    "### 1.5 Change Types"
   ]
  },
  {
   "cell_type": "code",
   "execution_count": 280,
   "id": "045396cb",
   "metadata": {
    "ExecuteTime": {
     "end_time": "2022-07-28T14:22:10.699365Z",
     "start_time": "2022-07-28T14:22:10.682457Z"
    },
    "hidden": true,
    "scrolled": true
   },
   "outputs": [
    {
     "data": {
      "text/plain": [
       "store                                    int64\n",
       "day_of_week                              int64\n",
       "date                            datetime64[ns]\n",
       "sales                                    int64\n",
       "customers                                int64\n",
       "open                                     int64\n",
       "promo                                    int64\n",
       "state_holiday                           object\n",
       "school_holiday                           int64\n",
       "store_type                              object\n",
       "assortment                              object\n",
       "competition_distance                   float64\n",
       "competition_open_since_month           float64\n",
       "competition_open_since_year            float64\n",
       "promo2                                   int64\n",
       "promo2_since_week                      float64\n",
       "promo2_since_year                      float64\n",
       "promo_interval                          object\n",
       "month_map                               object\n",
       "is_promo                                 int64\n",
       "dtype: object"
      ]
     },
     "execution_count": 280,
     "metadata": {},
     "output_type": "execute_result"
    }
   ],
   "source": [
    "df.dtypes"
   ]
  },
  {
   "cell_type": "code",
   "execution_count": 281,
   "id": "d4db0d98",
   "metadata": {
    "ExecuteTime": {
     "end_time": "2022-07-28T14:22:10.794456Z",
     "start_time": "2022-07-28T14:22:10.704365Z"
    },
    "hidden": true
   },
   "outputs": [],
   "source": [
    "df['competition_open_since_month'] = df['competition_open_since_month'].astype('int64')\n",
    "df['competition_open_since_year'] = df['competition_open_since_year'].astype('int64')\n",
    "\n",
    "df['promo2_since_week'] = df['promo2_since_week'].astype('int64')\n",
    "df['promo2_since_year'] = df['promo2_since_year'].astype('int64')"
   ]
  },
  {
   "cell_type": "code",
   "execution_count": 282,
   "id": "b1623d2e",
   "metadata": {
    "ExecuteTime": {
     "end_time": "2022-07-28T14:22:10.809855Z",
     "start_time": "2022-07-28T14:22:10.795538Z"
    },
    "hidden": true
   },
   "outputs": [
    {
     "data": {
      "text/plain": [
       "store                                    int64\n",
       "day_of_week                              int64\n",
       "date                            datetime64[ns]\n",
       "sales                                    int64\n",
       "customers                                int64\n",
       "open                                     int64\n",
       "promo                                    int64\n",
       "state_holiday                           object\n",
       "school_holiday                           int64\n",
       "store_type                              object\n",
       "assortment                              object\n",
       "competition_distance                   float64\n",
       "competition_open_since_month             int64\n",
       "competition_open_since_year              int64\n",
       "promo2                                   int64\n",
       "promo2_since_week                        int64\n",
       "promo2_since_year                        int64\n",
       "promo_interval                          object\n",
       "month_map                               object\n",
       "is_promo                                 int64\n",
       "dtype: object"
      ]
     },
     "execution_count": 282,
     "metadata": {},
     "output_type": "execute_result"
    }
   ],
   "source": [
    "df.dtypes"
   ]
  },
  {
   "cell_type": "markdown",
   "id": "69f79a18",
   "metadata": {
    "hidden": true
   },
   "source": [
    "### 1.6 Descriptive statistics"
   ]
  },
  {
   "cell_type": "code",
   "execution_count": 283,
   "id": "da6f039f",
   "metadata": {
    "ExecuteTime": {
     "end_time": "2022-07-28T14:22:10.825213Z",
     "start_time": "2022-07-28T14:22:10.813305Z"
    },
    "hidden": true
   },
   "outputs": [],
   "source": [
    "num_attr = df.select_dtypes(include=['int64','float64'])\n",
    "cat_attr = df.select_dtypes(exclude=['int64','float64','datetime64[ns]'])"
   ]
  },
  {
   "cell_type": "markdown",
   "id": "694650fd",
   "metadata": {
    "hidden": true
   },
   "source": [
    "#### 1.7.1 Numerical Attributes"
   ]
  },
  {
   "cell_type": "code",
   "execution_count": 284,
   "id": "18099d8e",
   "metadata": {
    "ExecuteTime": {
     "end_time": "2022-07-28T14:22:11.732474Z",
     "start_time": "2022-07-28T14:22:10.827194Z"
    },
    "hidden": true
   },
   "outputs": [],
   "source": [
    "num_att_metrics = num_attr.agg([\"mean\",\"median\",\"std\",\"min\",\"max\",\"skew\",\"kurtosis\"]).T.reset_index().rename(columns= {'index' : 'features'})"
   ]
  },
  {
   "cell_type": "code",
   "execution_count": 285,
   "id": "fdddf1b7",
   "metadata": {
    "ExecuteTime": {
     "end_time": "2022-07-28T14:22:11.764332Z",
     "start_time": "2022-07-28T14:22:11.732474Z"
    },
    "hidden": true
   },
   "outputs": [
    {
     "data": {
      "text/html": [
       "<div>\n",
       "<style scoped>\n",
       "    .dataframe tbody tr th:only-of-type {\n",
       "        vertical-align: middle;\n",
       "    }\n",
       "\n",
       "    .dataframe tbody tr th {\n",
       "        vertical-align: top;\n",
       "    }\n",
       "\n",
       "    .dataframe thead th {\n",
       "        text-align: right;\n",
       "    }\n",
       "</style>\n",
       "<table border=\"1\" class=\"dataframe\">\n",
       "  <thead>\n",
       "    <tr style=\"text-align: right;\">\n",
       "      <th></th>\n",
       "      <th>features</th>\n",
       "      <th>mean</th>\n",
       "      <th>median</th>\n",
       "      <th>std</th>\n",
       "      <th>min</th>\n",
       "      <th>max</th>\n",
       "      <th>skew</th>\n",
       "      <th>kurtosis</th>\n",
       "    </tr>\n",
       "  </thead>\n",
       "  <tbody>\n",
       "    <tr>\n",
       "      <th>0</th>\n",
       "      <td>store</td>\n",
       "      <td>558.429727</td>\n",
       "      <td>558.0</td>\n",
       "      <td>321.908651</td>\n",
       "      <td>1.0</td>\n",
       "      <td>1115.0</td>\n",
       "      <td>-0.000955</td>\n",
       "      <td>-1.200524</td>\n",
       "    </tr>\n",
       "    <tr>\n",
       "      <th>1</th>\n",
       "      <td>day_of_week</td>\n",
       "      <td>3.998341</td>\n",
       "      <td>4.0</td>\n",
       "      <td>1.997391</td>\n",
       "      <td>1.0</td>\n",
       "      <td>7.0</td>\n",
       "      <td>0.001593</td>\n",
       "      <td>-1.246873</td>\n",
       "    </tr>\n",
       "    <tr>\n",
       "      <th>2</th>\n",
       "      <td>sales</td>\n",
       "      <td>5773.818972</td>\n",
       "      <td>5744.0</td>\n",
       "      <td>3849.926175</td>\n",
       "      <td>0.0</td>\n",
       "      <td>41551.0</td>\n",
       "      <td>0.641460</td>\n",
       "      <td>1.778375</td>\n",
       "    </tr>\n",
       "    <tr>\n",
       "      <th>3</th>\n",
       "      <td>customers</td>\n",
       "      <td>633.145946</td>\n",
       "      <td>609.0</td>\n",
       "      <td>464.411734</td>\n",
       "      <td>0.0</td>\n",
       "      <td>7388.0</td>\n",
       "      <td>1.598650</td>\n",
       "      <td>7.091773</td>\n",
       "    </tr>\n",
       "    <tr>\n",
       "      <th>4</th>\n",
       "      <td>open</td>\n",
       "      <td>0.830107</td>\n",
       "      <td>1.0</td>\n",
       "      <td>0.375539</td>\n",
       "      <td>0.0</td>\n",
       "      <td>1.0</td>\n",
       "      <td>-1.758045</td>\n",
       "      <td>1.090723</td>\n",
       "    </tr>\n",
       "    <tr>\n",
       "      <th>5</th>\n",
       "      <td>promo</td>\n",
       "      <td>0.381515</td>\n",
       "      <td>0.0</td>\n",
       "      <td>0.485759</td>\n",
       "      <td>0.0</td>\n",
       "      <td>1.0</td>\n",
       "      <td>0.487838</td>\n",
       "      <td>-1.762018</td>\n",
       "    </tr>\n",
       "    <tr>\n",
       "      <th>6</th>\n",
       "      <td>school_holiday</td>\n",
       "      <td>0.178647</td>\n",
       "      <td>0.0</td>\n",
       "      <td>0.383056</td>\n",
       "      <td>0.0</td>\n",
       "      <td>1.0</td>\n",
       "      <td>1.677842</td>\n",
       "      <td>0.815154</td>\n",
       "    </tr>\n",
       "    <tr>\n",
       "      <th>7</th>\n",
       "      <td>competition_distance</td>\n",
       "      <td>5805.577526</td>\n",
       "      <td>2330.0</td>\n",
       "      <td>10654.365263</td>\n",
       "      <td>20.0</td>\n",
       "      <td>150000.0</td>\n",
       "      <td>7.492361</td>\n",
       "      <td>88.374150</td>\n",
       "    </tr>\n",
       "    <tr>\n",
       "      <th>8</th>\n",
       "      <td>competition_open_since_month</td>\n",
       "      <td>6.786849</td>\n",
       "      <td>7.0</td>\n",
       "      <td>3.311087</td>\n",
       "      <td>1.0</td>\n",
       "      <td>12.0</td>\n",
       "      <td>-0.042076</td>\n",
       "      <td>-1.232607</td>\n",
       "    </tr>\n",
       "    <tr>\n",
       "      <th>9</th>\n",
       "      <td>competition_open_since_year</td>\n",
       "      <td>2010.324840</td>\n",
       "      <td>2012.0</td>\n",
       "      <td>5.515593</td>\n",
       "      <td>1900.0</td>\n",
       "      <td>2015.0</td>\n",
       "      <td>-7.235657</td>\n",
       "      <td>124.071304</td>\n",
       "    </tr>\n",
       "    <tr>\n",
       "      <th>10</th>\n",
       "      <td>promo2</td>\n",
       "      <td>0.500564</td>\n",
       "      <td>1.0</td>\n",
       "      <td>0.500000</td>\n",
       "      <td>0.0</td>\n",
       "      <td>1.0</td>\n",
       "      <td>-0.002255</td>\n",
       "      <td>-1.999999</td>\n",
       "    </tr>\n",
       "    <tr>\n",
       "      <th>11</th>\n",
       "      <td>promo2_since_week</td>\n",
       "      <td>23.619033</td>\n",
       "      <td>22.0</td>\n",
       "      <td>14.310064</td>\n",
       "      <td>1.0</td>\n",
       "      <td>52.0</td>\n",
       "      <td>0.178723</td>\n",
       "      <td>-1.184046</td>\n",
       "    </tr>\n",
       "    <tr>\n",
       "      <th>12</th>\n",
       "      <td>promo2_since_year</td>\n",
       "      <td>2012.793297</td>\n",
       "      <td>2013.0</td>\n",
       "      <td>1.662658</td>\n",
       "      <td>2009.0</td>\n",
       "      <td>2015.0</td>\n",
       "      <td>-0.784436</td>\n",
       "      <td>-0.210075</td>\n",
       "    </tr>\n",
       "    <tr>\n",
       "      <th>13</th>\n",
       "      <td>is_promo</td>\n",
       "      <td>0.165966</td>\n",
       "      <td>0.0</td>\n",
       "      <td>0.372050</td>\n",
       "      <td>0.0</td>\n",
       "      <td>1.0</td>\n",
       "      <td>1.795644</td>\n",
       "      <td>1.224338</td>\n",
       "    </tr>\n",
       "  </tbody>\n",
       "</table>\n",
       "</div>"
      ],
      "text/plain": [
       "                        features         mean  median           std     min       max      skew    kurtosis\n",
       "0                          store   558.429727   558.0    321.908651     1.0    1115.0 -0.000955   -1.200524\n",
       "1                    day_of_week     3.998341     4.0      1.997391     1.0       7.0  0.001593   -1.246873\n",
       "2                          sales  5773.818972  5744.0   3849.926175     0.0   41551.0  0.641460    1.778375\n",
       "3                      customers   633.145946   609.0    464.411734     0.0    7388.0  1.598650    7.091773\n",
       "4                           open     0.830107     1.0      0.375539     0.0       1.0 -1.758045    1.090723\n",
       "5                          promo     0.381515     0.0      0.485759     0.0       1.0  0.487838   -1.762018\n",
       "6                 school_holiday     0.178647     0.0      0.383056     0.0       1.0  1.677842    0.815154\n",
       "7           competition_distance  5805.577526  2330.0  10654.365263    20.0  150000.0  7.492361   88.374150\n",
       "8   competition_open_since_month     6.786849     7.0      3.311087     1.0      12.0 -0.042076   -1.232607\n",
       "9    competition_open_since_year  2010.324840  2012.0      5.515593  1900.0    2015.0 -7.235657  124.071304\n",
       "10                        promo2     0.500564     1.0      0.500000     0.0       1.0 -0.002255   -1.999999\n",
       "11             promo2_since_week    23.619033    22.0     14.310064     1.0      52.0  0.178723   -1.184046\n",
       "12             promo2_since_year  2012.793297  2013.0      1.662658  2009.0    2015.0 -0.784436   -0.210075\n",
       "13                      is_promo     0.165966     0.0      0.372050     0.0       1.0  1.795644    1.224338"
      ]
     },
     "execution_count": 285,
     "metadata": {},
     "output_type": "execute_result"
    }
   ],
   "source": [
    "num_att_metrics"
   ]
  },
  {
   "cell_type": "markdown",
   "id": "d1df846b",
   "metadata": {
    "hidden": true
   },
   "source": [
    "#### 1.7.2 Categorical Attributes"
   ]
  },
  {
   "cell_type": "code",
   "execution_count": 286,
   "id": "6b8fcbb1",
   "metadata": {
    "ExecuteTime": {
     "end_time": "2022-07-28T14:22:12.113838Z",
     "start_time": "2022-07-28T14:22:11.766263Z"
    },
    "hidden": true
   },
   "outputs": [
    {
     "data": {
      "text/html": [
       "<div>\n",
       "<style scoped>\n",
       "    .dataframe tbody tr th:only-of-type {\n",
       "        vertical-align: middle;\n",
       "    }\n",
       "\n",
       "    .dataframe tbody tr th {\n",
       "        vertical-align: top;\n",
       "    }\n",
       "\n",
       "    .dataframe thead th {\n",
       "        text-align: right;\n",
       "    }\n",
       "</style>\n",
       "<table border=\"1\" class=\"dataframe\">\n",
       "  <thead>\n",
       "    <tr style=\"text-align: right;\">\n",
       "      <th></th>\n",
       "      <th>count</th>\n",
       "      <th>unique</th>\n",
       "    </tr>\n",
       "  </thead>\n",
       "  <tbody>\n",
       "    <tr>\n",
       "      <th>state_holiday</th>\n",
       "      <td>1017209</td>\n",
       "      <td>[0, a, b, c]</td>\n",
       "    </tr>\n",
       "    <tr>\n",
       "      <th>store_type</th>\n",
       "      <td>1017209</td>\n",
       "      <td>[c, a, d, b]</td>\n",
       "    </tr>\n",
       "    <tr>\n",
       "      <th>assortment</th>\n",
       "      <td>1017209</td>\n",
       "      <td>[a, c, b]</td>\n",
       "    </tr>\n",
       "    <tr>\n",
       "      <th>promo_interval</th>\n",
       "      <td>1017209</td>\n",
       "      <td>[0, Jan,Apr,Jul,Oct, Feb,May,Aug,Nov, Mar,Jun,...</td>\n",
       "    </tr>\n",
       "    <tr>\n",
       "      <th>month_map</th>\n",
       "      <td>1017209</td>\n",
       "      <td>[Jul, Jun, May, Apr, Mar, Feb, Jan, Dec, Nov, ...</td>\n",
       "    </tr>\n",
       "  </tbody>\n",
       "</table>\n",
       "</div>"
      ],
      "text/plain": [
       "                  count                                             unique\n",
       "state_holiday   1017209                                       [0, a, b, c]\n",
       "store_type      1017209                                       [c, a, d, b]\n",
       "assortment      1017209                                          [a, c, b]\n",
       "promo_interval  1017209  [0, Jan,Apr,Jul,Oct, Feb,May,Aug,Nov, Mar,Jun,...\n",
       "month_map       1017209  [Jul, Jun, May, Apr, Mar, Feb, Jan, Dec, Nov, ..."
      ]
     },
     "execution_count": 286,
     "metadata": {},
     "output_type": "execute_result"
    }
   ],
   "source": [
    "cat_attr.agg(['count','unique']).T"
   ]
  },
  {
   "cell_type": "markdown",
   "id": "d2a18e82",
   "metadata": {},
   "source": [
    "## 2.0 Feature Engineering"
   ]
  },
  {
   "cell_type": "code",
   "execution_count": 287,
   "id": "e6b05a10",
   "metadata": {
    "ExecuteTime": {
     "end_time": "2022-07-28T14:22:12.144837Z",
     "start_time": "2022-07-28T14:22:12.115833Z"
    }
   },
   "outputs": [
    {
     "data": {
      "image/png": "[encoded data removed]",
      "text/plain": [
       "<IPython.core.display.Image object>"
      ]
     },
     "execution_count": 287,
     "metadata": {
      "image/png": {
       "height": 400,
       "width": 800
      }
     },
     "output_type": "execute_result"
    }
   ],
   "source": [
    "Image('C:\\\\Users\\\\marco\\\\OneDrive\\\\Documents\\\\repos\\\\ds_em_producao\\\\rossmann\\\\rossmann_sales_prediction\\\\img\\\\MindMapHyp.png',width = 800, height = 400)"
   ]
  },
  {
   "cell_type": "markdown",
   "id": "6abd56ce",
   "metadata": {
    "ExecuteTime": {
     "end_time": "2022-07-19T15:14:32.493978Z",
     "start_time": "2022-07-19T15:14:32.476103Z"
    }
   },
   "source": [
    "### 2.1 Hypothesis brainstorming"
   ]
  },
  {
   "cell_type": "markdown",
   "id": "424b84c6",
   "metadata": {
    "heading_collapsed": true
   },
   "source": [
    "#### 2.1.1 Hypothesis Stores"
   ]
  },
  {
   "cell_type": "markdown",
   "id": "b714cf94",
   "metadata": {
    "hidden": true
   },
   "source": [
    "**1.** Stores with bigger staff are supposed to sell more \n",
    "\n",
    "**2.** Stores with bigger stocks are supposed too sell more \n",
    "\n",
    "**3.** Bigger stores are supposed too sell more\n",
    "\n",
    "**4.** Stores with wider items assortment are supposed too sell more\n",
    "\n",
    "**5.** Stores with nearer competitors are supposed too sell less\n",
    "\n",
    "**6.** Stores with longer competition are supposed too sell more"
   ]
  },
  {
   "cell_type": "markdown",
   "id": "28ad4b80",
   "metadata": {
    "heading_collapsed": true
   },
   "source": [
    "#### 2.1.2 Hypotheis Products"
   ]
  },
  {
   "cell_type": "markdown",
   "id": "b3b3dfc2",
   "metadata": {
    "hidden": true
   },
   "source": [
    "**1.** Stores with products with more ads investment are supposed to sell more\n",
    "\n",
    "**2.** Stores with products better exposed are supposed to sell more\n",
    "\n",
    "**3.** Stores with lower products are supposed to sell more\n",
    "\n",
    "**5.** Stores with agressive products promotions are supposed to sell more\n",
    "\n",
    "**6.** Stores with longer products sales are supposed to sell more \n",
    "\n",
    "**7.** Stores with products under consecutives sales are supposed to sell more "
   ]
  },
  {
   "cell_type": "markdown",
   "id": "29e7ad6d",
   "metadata": {
    "heading_collapsed": true
   },
   "source": [
    "#### 2.1.3 Hypotheis Seasonality"
   ]
  },
  {
   "cell_type": "markdown",
   "id": "0023bf54",
   "metadata": {
    "hidden": true
   },
   "source": [
    "**1.** Stores opened during Christmas Holiday are supposed to sell more.\n",
    "\n",
    "**2.** Stores are supposed to sell more past the first years\n",
    "\n",
    "**3.** Stores are supposed to sell more on 2nd semester \n",
    "\n",
    "**4.** Stores are supposed to sell more after 10th day on the month\n",
    "\n",
    "**5.** Stores are supposed to sell less in the weekend \n",
    "\n",
    "**6.** Stores are supposed to sell less during scholar holidays "
   ]
  },
  {
   "cell_type": "markdown",
   "id": "c11b76eb",
   "metadata": {},
   "source": [
    "### 2.2 Prioritized Hypothesis (are there data in this crisp cycle to evaluate it?)"
   ]
  },
  {
   "cell_type": "markdown",
   "id": "187b3fc8",
   "metadata": {},
   "source": [
    "**1.** Stores with wider items assortment are supposed too sell more\n",
    "\n",
    "**2.** Stores with nearer competitors are supposed too sell less\n",
    "\n",
    "**3.** Stores with longer competition are supposed too sell more\n",
    "\n",
    "**4.** Stores with longer products sales are supposed to sell more \n",
    "\n",
    "**5.** Stores with products under consecutives sales are supposed to sell more \n",
    "\n",
    "**6.** Stores opened during Christmas Holiday are supposed to sell more.\n",
    "\n",
    "**7.** Stores are supposed to sell more past the first years\n",
    "\n",
    "**8.** Stores are supposed to sell more on 2nd semester \n",
    "\n",
    "**9.** Stores are supposed to sell more after 10th day on the month\n",
    "\n",
    "**10.** Stores are supposed to sell less in the weekend \n",
    "\n",
    "**11.** Stores are supposed to sell less during scholar holidays \n"
   ]
  },
  {
   "cell_type": "code",
   "execution_count": 288,
   "id": "6e48edeb",
   "metadata": {
    "ExecuteTime": {
     "end_time": "2022-07-28T14:22:13.076738Z",
     "start_time": "2022-07-28T14:22:12.146834Z"
    }
   },
   "outputs": [],
   "source": [
    "df2 = df.copy()"
   ]
  },
  {
   "cell_type": "markdown",
   "id": "ef46370b",
   "metadata": {
    "heading_collapsed": true
   },
   "source": [
    "### 2.3 Feature Engineering"
   ]
  },
  {
   "cell_type": "code",
   "execution_count": 289,
   "id": "6c955664",
   "metadata": {
    "ExecuteTime": {
     "end_time": "2022-07-28T14:22:20.987527Z",
     "start_time": "2022-07-28T14:22:13.079968Z"
    },
    "hidden": true
   },
   "outputs": [
    {
     "name": "stderr",
     "output_type": "stream",
     "text": [
      "C:\\Users\\marco\\AppData\\Local\\Temp\\ipykernel_9364\\3884551600.py:12: FutureWarning: Series.dt.weekofyear and Series.dt.week have been deprecated. Please use Series.dt.isocalendar().week instead.\n",
      "  df2['week_of_year'] = df2['date'].dt.weekofyear\n"
     ]
    }
   ],
   "source": [
    "#creating date features\n",
    "#year\n",
    "df2['year'] = df2['date'].dt.year\n",
    "\n",
    "#day\n",
    "df2['day'] = df2['date'].dt.day\n",
    "\n",
    "#month\n",
    "df2['month'] = df2['date'].dt.month\n",
    "\n",
    "#week_of_year\n",
    "df2['week_of_year'] = df2['date'].dt.weekofyear\n",
    "\n",
    "#week-year\n",
    "df2['year_week'] = df2['date'].dt.strftime(\"%Y-%W\")"
   ]
  },
  {
   "cell_type": "code",
   "execution_count": 290,
   "id": "c54504f4",
   "metadata": {
    "ExecuteTime": {
     "end_time": "2022-07-28T14:22:47.316445Z",
     "start_time": "2022-07-28T14:22:20.987527Z"
    },
    "hidden": true
   },
   "outputs": [],
   "source": [
    "#competition_since\n",
    "df2['competition_since'] = df2.apply(lambda x: datetime.datetime(year= x['competition_open_since_year'], month= x['competition_open_since_month'], day=1), axis=1)\n",
    "df2['competition_time_month'] = ((df2['date'] - df2['competition_since'])/30).apply(lambda x: x.days).astype('int64')"
   ]
  },
  {
   "cell_type": "code",
   "execution_count": 291,
   "id": "3200b81c",
   "metadata": {
    "ExecuteTime": {
     "end_time": "2022-07-28T14:23:11.368125Z",
     "start_time": "2022-07-28T14:22:47.316445Z"
    },
    "hidden": true
   },
   "outputs": [],
   "source": [
    "#promo_since\n",
    "df2['promo_since'] = df2['promo2_since_year'].astype(str)+'-'+df2['promo2_since_week'].astype(str)\n",
    "df2['promo_since'] = df2['promo_since'].apply(lambda x: datetime.datetime.strptime(x+'-1', '%Y-%W-%w') - datetime.timedelta(days=7))\n",
    "df2['promo_time_week'] = ((df2['date'] - df2['promo_since'])/7).apply(lambda x: x.days).astype('int64')"
   ]
  },
  {
   "cell_type": "code",
   "execution_count": 292,
   "id": "cc907258",
   "metadata": {
    "ExecuteTime": {
     "end_time": "2022-07-28T14:23:11.540843Z",
     "start_time": "2022-07-28T14:23:11.382921Z"
    },
    "hidden": true
   },
   "outputs": [],
   "source": [
    "#assortment => assortment level: a = basic, b = extra, c = extended\n",
    "#df2['assortment'].unique()\n",
    "df2['assortment'] = df2['assortment'].map({'a':'basic', 'b':'extra','c':'extended'})"
   ]
  },
  {
   "cell_type": "code",
   "execution_count": 293,
   "id": "27ed103e",
   "metadata": {
    "ExecuteTime": {
     "end_time": "2022-07-28T14:23:11.666197Z",
     "start_time": "2022-07-28T14:23:11.542599Z"
    },
    "hidden": true
   },
   "outputs": [],
   "source": [
    "#state_holday => a = public holiday, b = Easter holiday, c = Christmas, 0 = None\n",
    "#df2['state_holiday'].unique()\n",
    "df2['state_holiday'] = df2['state_holiday'].map({'a':'public', 'b':'easter','c':'christmas','0':'regular'})"
   ]
  },
  {
   "cell_type": "markdown",
   "id": "e3426cb0",
   "metadata": {},
   "source": [
    "## 3.0 Feature Filtering"
   ]
  },
  {
   "cell_type": "code",
   "execution_count": 294,
   "id": "0da0f440",
   "metadata": {
    "ExecuteTime": {
     "end_time": "2022-07-28T14:23:15.763297Z",
     "start_time": "2022-07-28T14:23:11.667039Z"
    },
    "scrolled": true
   },
   "outputs": [],
   "source": [
    "#Feature Filtering => according to business constraints and data\n",
    "#Feature Selection => most relevant feature to modeling\n",
    "df3 = df2.copy()"
   ]
  },
  {
   "cell_type": "markdown",
   "id": "bf7faf7c",
   "metadata": {},
   "source": [
    "### 3.1 Rows filtering"
   ]
  },
  {
   "cell_type": "code",
   "execution_count": 295,
   "id": "0e57b7bb",
   "metadata": {
    "ExecuteTime": {
     "end_time": "2022-07-28T14:23:16.136965Z",
     "start_time": "2022-07-28T14:23:15.764303Z"
    },
    "scrolled": true
   },
   "outputs": [],
   "source": [
    "#open == 0 means store closed and we cant predict any sales\n",
    "#sales == 0 means store didnt sell anything and we cant predict any sales\n",
    "df3 = df3[(df3['open'] != 0) | (df3['sales'] > 0)].reset_index(drop=True)"
   ]
  },
  {
   "cell_type": "markdown",
   "id": "0e845300",
   "metadata": {},
   "source": [
    "### 3.2 Attributes filtering"
   ]
  },
  {
   "cell_type": "code",
   "execution_count": 296,
   "id": "0c2bea92",
   "metadata": {
    "ExecuteTime": {
     "end_time": "2022-07-28T14:23:16.325359Z",
     "start_time": "2022-07-28T14:23:16.138994Z"
    }
   },
   "outputs": [],
   "source": [
    "#customers is an attribute that must be predicted first (from another model) and used as input to predict sales (we dont have this prediction)\n",
    "#open remained only open == 1, it's meaningless attribute\n",
    "#promo_interval and month_map were manipulated onto new attributes\n",
    "cols_drop = ['customers','open','promo_interval','month_map']\n",
    "df3 = df3.drop(cols_drop,axis=1)"
   ]
  }
 ],
 "metadata": {
  "kernelspec": {
   "display_name": "Python 3 (ipykernel)",
   "language": "python",
   "name": "python3"
  },
  "language_info": {
   "codemirror_mode": {
    "name": "ipython",
    "version": 3
   },
   "file_extension": ".py",
   "mimetype": "text/x-python",
   "name": "python",
   "nbconvert_exporter": "python",
   "pygments_lexer": "ipython3",
   "version": "3.9.12"
  },
  "varInspector": {
   "cols": {
    "lenName": 16,
    "lenType": 16,
    "lenVar": 40
   },
   "kernels_config": {
    "python": {
     "delete_cmd_postfix": "",
     "delete_cmd_prefix": "del ",
     "library": "var_list.py",
     "varRefreshCmd": "print(var_dic_list())"
    },
    "r": {
     "delete_cmd_postfix": ") ",
     "delete_cmd_prefix": "rm(",
     "library": "var_list.r",
     "varRefreshCmd": "cat(var_dic_list()) "
    }
   },
   "types_to_exclude": [
    "module",
    "function",
    "builtin_function_or_method",
    "instance",
    "_Feature"
   ],
   "window_display": false
  }
 },
 "nbformat": 4,
 "nbformat_minor": 5
}
